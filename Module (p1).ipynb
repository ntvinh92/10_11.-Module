{
 "cells": [
  {
   "cell_type": "code",
   "execution_count": null,
   "metadata": {},
   "outputs": [],
   "source": [
    "def bang_cuu_chuong(num):\n",
    "    for i in range(1,10):\n",
    "        print(f'{num} x {i} = {num*i}')\n",
    "bang_cuu_chuong(2)\n",
    "bang_cuu_chuong(5)\n",
    "bang_cuu_chuong(2)"
   ]
  },
  {
   "cell_type": "code",
   "execution_count": null,
   "metadata": {},
   "outputs": [],
   "source": [
    "import turtle\n",
    "def square(canh):\n",
    "    t = turtle.Turtle()\n",
    "    for i in range(4):\n",
    "        t.fd(canh)\n",
    "        t.rt(90)\n",
    "    turtle.done()\n",
    "square(100)"
   ]
  },
  {
   "cell_type": "code",
   "execution_count": null,
   "metadata": {},
   "outputs": [],
   "source": [
    "def tong_uoc_so(num):\n",
    "    tong=0\n",
    "    if num>0:\n",
    "        for i in range(1,num+1):\n",
    "            if num%i==0:\n",
    "                tong += i\n",
    "        print(tong)  \n",
    "    else:\n",
    "        print('Phai nhap so nguyen duong')\n",
    "tong_uoc_so(4)\n",
    "tong_uoc_so(13)\n",
    "tong_uoc_so(-11)"
   ]
  },
  {
   "cell_type": "code",
   "execution_count": null,
   "metadata": {},
   "outputs": [],
   "source": [
    "# Bài 1: Tính tổng tất cả các “ước số chẵn” của số nguyên dương n\n",
    "def tong_uoc_so_chan(n):\n",
    "    tong=0\n",
    "    if n<=0:\n",
    "        print('Phai nhap tham so dau vao la so nguyen duong')    \n",
    "    else:\n",
    "        for i in range(1, n+1):\n",
    "            if n%i==0 and i%2==0:\n",
    "                tong += i\n",
    "    if tong==0:\n",
    "        print(f'So {n} khong co uoc so chan')\n",
    "    else:\n",
    "        print(tong)\n",
    "\n",
    "tong_uoc_so_chan(5)\n",
    "tong_uoc_so_chan(10)"
   ]
  },
  {
   "cell_type": "code",
   "execution_count": 13,
   "metadata": {},
   "outputs": [
    {
     "name": "stdout",
     "output_type": "stream",
     "text": [
      "33\n"
     ]
    }
   ],
   "source": [
    "# Bài 2: Tìm ước số lẻ lớn nhất của số nguyên dương n. Ví dụ n = 100 ước lẻ lớn nhất là 25\n",
    "def max_uoc_so_le(n):\n",
    "    if n<= 0:\n",
    "        print('Phai nhap tham so dau vao la so nguyen duong')    \n",
    "    else:\n",
    "        for i in range(1, n//+1,2):\n",
    "            if n%i==0 and i%2!=0:\n",
    "                max = i\n",
    "        print(max)\n",
    "max_uoc_so_le(100)"
   ]
  },
  {
   "cell_type": "code",
   "execution_count": 21,
   "metadata": {},
   "outputs": [
    {
     "name": "stdout",
     "output_type": "stream",
     "text": [
      "So lan can gap 12\n"
     ]
    }
   ],
   "source": [
    "# Bài 3: Một tờ giấy có độ dày 0.2 mm. Phải gấp đôi tờ giấy bao nhiêu lần để nó có độ dày 1m. Tìm số lần.\n",
    "def so_lan_gap(x, y):\n",
    "    so_lan=0\n",
    "    do_day=x\n",
    "    while do_day<y:\n",
    "        so_lan += 1\n",
    "        do_day = do_day*2\n",
    "    return so_lan\n",
    "   # print(f'To giay day {x}mm can gap {so_lan} lan de co tong do day la {do_day}mm')\n",
    "so_lan = so_lan_gap(0.3, 1000)\n",
    "print(f'So lan can gap {so_lan}')"
   ]
  },
  {
   "cell_type": "code",
   "execution_count": 28,
   "metadata": {},
   "outputs": [
    {
     "name": "stdout",
     "output_type": "stream",
     "text": [
      "1 2\n",
      "2 5\n",
      "5 13\n",
      "13 34\n",
      "34 89\n",
      "89 233\n",
      "233 610\n"
     ]
    }
   ],
   "source": [
    "# Bài 4: Viết chương trình xác định tất cả các cặp số nguyên dương (A, B) \n",
    "# sao cho A<B<1000 và (A^2+B^2+1)/AB là một số nguyên.\n",
    "def cap_so_nguyen(num):\n",
    "    for b in range(1,num):\n",
    "        for a in range(1,b):\n",
    "            if (a*a + b*b + 1)%(a*b)==0:\n",
    "            # x = (a*a + b*b + 1)/(a*b)\n",
    "            # if isinstance(x,int):\n",
    "                print(a, b)\n",
    "cap_so_nguyen(1000)\n",
    "# print(cap_so_nguyen(1000))"
   ]
  },
  {
   "cell_type": "code",
   "execution_count": null,
   "metadata": {},
   "outputs": [],
   "source": [
    "# Bài 5: Tìm tất cả các phương án kết hợp 3 loại giấy bạc 1000đ, 2000đ, 5000đ với nhau để cho ra số tiền N đ, \n",
    "# với N nhập từ bàn phím. Đưa ra phương án tối ưu ứng với số tờ tiền là ít nhất.\n",
    "while True:\n",
    "    tong_tien = int(input('Nhap so tien can kiem tra (VND): '))\n",
    "    if tong_tien%1000==0:\n",
    "        break\n",
    "def doi_tien(tong_tien):\n",
    "    so_to_min=0\n",
    "    so_to_max=0\n",
    "    phuong_an = 0\n",
    "    for c in range(tong_tien//5000 + 1):\n",
    "         for b in range((tong_tien - 5000*c)//2000 + 1):\n",
    "            for a in range((tong_tien -2000*b - 5000*c)//1000 + 1):\n",
    "                if 1000*a + 2000*b + 5000*c == tong_tien:\n",
    "                    phuong_an += 1\n",
    "                  # print(f'{a} to 1000, {b} to 2000, {c} to 5000')\n",
    "                    if so_to_min==0 or so_to_min > a + b + c:\n",
    "                        so_to_min = a + b + c\n",
    "                        a_min = a\n",
    "                        b_min=b\n",
    "                        c_min=c\n",
    "                    if so_to_max==0 or so_to_max < a + b + c:\n",
    "                        so_to_max = a + b + c\n",
    "                        a_max = a\n",
    "                        b_max=b\n",
    "                        c_max=c\n",
    "    print(f'Co {phuong_an} phuong an doi tien.')\n",
    "    print(f'Phuong an co so to tien it nhat la {so_to_min} to. Trong do, co {a_min} to 1000, {b_min} to 2000 va {c_min} to 5000')\n",
    "    print(f'Phuong an co so to tien nhieu nhat la {so_to_max} to. Trong do, co {a_max} to 1000, {b_max} to 2000 va {c_max} to 5000')\n",
    "doi_tien(tong_tien)"
   ]
  },
  {
   "cell_type": "code",
   "execution_count": 1,
   "metadata": {},
   "outputs": [
    {
     "ename": "NameError",
     "evalue": "name 't' is not defined",
     "output_type": "error",
     "traceback": [
      "\u001b[1;31m---------------------------------------------------------------------------\u001b[0m",
      "\u001b[1;31mNameError\u001b[0m                                 Traceback (most recent call last)",
      "\u001b[1;32m<ipython-input-1-fdc0b02c932e>\u001b[0m in \u001b[0;36m<module>\u001b[1;34m\u001b[0m\n\u001b[0;32m     10\u001b[0m \u001b[1;33m\u001b[0m\u001b[0m\n\u001b[0;32m     11\u001b[0m \u001b[0mchu_nhat\u001b[0m\u001b[1;33m(\u001b[0m\u001b[1;36m90\u001b[0m\u001b[1;33m,\u001b[0m \u001b[1;36m100\u001b[0m\u001b[1;33m)\u001b[0m\u001b[1;33m\u001b[0m\u001b[1;33m\u001b[0m\u001b[0m\n\u001b[1;32m---> 12\u001b[1;33m \u001b[0mt\u001b[0m\u001b[1;33m.\u001b[0m\u001b[0mpenup\u001b[0m\u001b[1;33m(\u001b[0m\u001b[1;33m)\u001b[0m\u001b[1;33m\u001b[0m\u001b[1;33m\u001b[0m\u001b[0m\n\u001b[0m\u001b[0;32m     13\u001b[0m \u001b[0mt\u001b[0m\u001b[1;33m.\u001b[0m\u001b[0mgoto\u001b[0m\u001b[1;33m(\u001b[0m\u001b[1;36m0\u001b[0m\u001b[1;33m,\u001b[0m \u001b[1;36m100\u001b[0m\u001b[1;33m)\u001b[0m\u001b[1;33m\u001b[0m\u001b[1;33m\u001b[0m\u001b[0m\n",
      "\u001b[1;31mNameError\u001b[0m: name 't' is not defined"
     ]
    }
   ],
   "source": [
    "import turtle\n",
    "def chu_nhat(rong, cao):\n",
    "    t = turtle.Turtle()\n",
    "    for i in range(2):\n",
    "        t.fd(rong)\n",
    "        t.lt(90)\n",
    "        t.fd(cao)\n",
    "        t.lt(90)\n",
    "    turtle.done()\n",
    "    "
   ]
  },
  {
   "cell_type": "code",
   "execution_count": 8,
   "metadata": {},
   "outputs": [
    {
     "name": "stdout",
     "output_type": "stream",
     "text": [
      "99\n"
     ]
    }
   ],
   "source": [
    "# Bài 2: Tìm ước số lẻ lớn nhất của số nguyên dương n. Ví dụ n = 100 ước lẻ lớn nhất là 25\n",
    "def max_uoc_so_le(n):\n",
    "    if n<= 0:\n",
    "        print('Phai nhap tham so dau vao la so nguyen duong')    \n",
    "    else:\n",
    "        for i in range(n,1,-1):\n",
    "            if n%i==0 and i%2!=0:\n",
    "                max = i\n",
    "                break\n",
    "        print(max)\n",
    "max_uoc_so_le(99)"
   ]
  },
  {
   "cell_type": "code",
   "execution_count": 29,
   "metadata": {},
   "outputs": [
    {
     "data": {
      "text/plain": [
       "100"
      ]
     },
     "execution_count": 29,
     "metadata": {},
     "output_type": "execute_result"
    }
   ],
   "source": [
    "pow (10,2)"
   ]
  },
  {
   "cell_type": "code",
   "execution_count": null,
   "metadata": {},
   "outputs": [],
   "source": []
  }
 ],
 "metadata": {
  "kernelspec": {
   "display_name": "Python 3",
   "language": "python",
   "name": "python3"
  },
  "language_info": {
   "codemirror_mode": {
    "name": "ipython",
    "version": 3
   },
   "file_extension": ".py",
   "mimetype": "text/x-python",
   "name": "python",
   "nbconvert_exporter": "python",
   "pygments_lexer": "ipython3",
   "version": "3.8.5"
  }
 },
 "nbformat": 4,
 "nbformat_minor": 4
}
