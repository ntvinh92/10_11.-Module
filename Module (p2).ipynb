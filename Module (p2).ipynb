{
 "cells": [
  {
   "cell_type": "code",
   "execution_count": null,
   "metadata": {},
   "outputs": [],
   "source": [
    "def uoc_chung_max(a,b):\n",
    "    for i in range(1, a+1):\n",
    "        if a%i==0 and b%i==0:\n",
    "            uoc_max=i\n",
    "    return uoc_max\n",
    "\n",
    "while True:\n",
    "    try:\n",
    "        a = int(input('Nhap so nguyen duong a: '))\n",
    "        b = int(input('Nhap so nguyen duong b: '))\n",
    "        if a>0 and b>0:\n",
    "            break\n",
    "    except:\n",
    "        print('Dau vao a va b phai la so nguyen duong')\n",
    "uoc_max = uoc_chung_max(a,b)\n",
    "print(f'Uoc chung lon nhat cua {a} va {b} la {uoc_max}')"
   ]
  },
  {
   "cell_type": "code",
   "execution_count": null,
   "metadata": {},
   "outputs": [],
   "source": [
    "def armstrong(x):\n",
    "    if x<0:\n",
    "        print('Tham so dau vao phai la > 0')\n",
    "    else:\n",
    "        do_dai = len(str(x))\n",
    "        tong = 0\n",
    "        for i in range(0, do_dai):\n",
    "            tong += pow(int(str(x)[i]), do_dai)\n",
    "        if tong == x:\n",
    "            return True\n",
    "        else: \n",
    "            return False\n",
    "armstrong(137)\n",
    "armstrong(153)"
   ]
  },
  {
   "cell_type": "code",
   "execution_count": null,
   "metadata": {},
   "outputs": [],
   "source": [
    "def armstrong_list(n):\n",
    "    if n<0:\n",
    "        return('Tham so dau vao phai la so > 0')\n",
    "    else:\n",
    "        for i in range(1, n):\n",
    "            if armstrong(i):\n",
    "                print(i)\n",
    "armstrong_list(154)"
   ]
  },
  {
   "cell_type": "code",
   "execution_count": 19,
   "metadata": {},
   "outputs": [
    {
     "name": "stdout",
     "output_type": "stream",
     "text": [
      "Nhap 1 so nguyen duong bat ky: 13\n",
      "Day so: 0 1 1 2 3 5 8 13\n"
     ]
    }
   ],
   "source": [
    "# Hàm xác định số Fibo ở vị trí thứ x\n",
    "def fibo(x):\n",
    "    x1=0\n",
    "    x2=1\n",
    "    if x<0:\n",
    "        return('Phai nhap so dau vao la so nguyen duong')\n",
    "    elif x==0:\n",
    "        return x1\n",
    "    elif x==1:\n",
    "        return x2\n",
    "    else: \n",
    "        count=1\n",
    "        while count<x:\n",
    "            xth=x1+x2\n",
    "            count+=1\n",
    "            x1=x2\n",
    "            x2=xth\n",
    "        return xth\n",
    "\n",
    "# Hàm liệt kê ra dãy số Fibo với số cuối cùng <= giá trị đầu vào cho trước\n",
    "def fibo_list(n):\n",
    "    list = ''\n",
    "    i=0\n",
    "    while fibo(i)<=n:\n",
    "        list = list + \" \" + str(fibo(i))\n",
    "        i+=1\n",
    "    print(f'Day so:{list}')  \n",
    "    \n",
    "while True:\n",
    "    n = int(input('Nhap 1 so nguyen duong bat ky: '))\n",
    "    if n>0:\n",
    "        break\n",
    "fibo_list(n)"
   ]
  },
  {
   "cell_type": "code",
   "execution_count": 14,
   "metadata": {},
   "outputs": [
    {
     "data": {
      "text/plain": [
       "True"
      ]
     },
     "execution_count": 14,
     "metadata": {},
     "output_type": "execute_result"
    }
   ],
   "source": [
    "fibo(0)==0"
   ]
  },
  {
   "cell_type": "code",
   "execution_count": 4,
   "metadata": {},
   "outputs": [
    {
     "name": "stdout",
     "output_type": "stream",
     "text": [
      "Nhap 1 so nguyen duong bat ky: 6\n",
      "Day so: 0 1\n"
     ]
    }
   ],
   "source": [
    "# Hàm xác định số Fibo ở vị trí thứ x\n",
    "def fibo(x):\n",
    "    x1=0\n",
    "    x2=1\n",
    "    if x<0:\n",
    "        return('Phai nhap so dau vao la so nguyen duong')\n",
    "    elif x==0:\n",
    "        return x1\n",
    "    elif x==1:\n",
    "        return x2\n",
    "    else: \n",
    "        count=1\n",
    "        while count<x:\n",
    "            xth=x1+x2\n",
    "            count+=1\n",
    "            x1=x2\n",
    "            x2=xth\n",
    "        return xth\n",
    "\n",
    "# Hàm liệt kê ra dãy số Fibo với số cuối cùng <= giá trị đầu vào cho trước\n",
    "def fibo_list(n):\n",
    "    list = ''\n",
    "    i=2\n",
    "    for j in range(0,i):\n",
    "        i+=1\n",
    "        if fibo(j)>n:\n",
    "            break\n",
    "        list = list + \" \" + str(fibo(j))\n",
    "    print(f'Day so:{list}')  \n",
    "    \n",
    "while True:\n",
    "    n = int(input('Nhap 1 so nguyen duong bat ky: '))\n",
    "    if n>0:\n",
    "        break\n",
    "fibo_list(n)"
   ]
  },
  {
   "cell_type": "code",
   "execution_count": null,
   "metadata": {},
   "outputs": [],
   "source": []
  }
 ],
 "metadata": {
  "kernelspec": {
   "display_name": "Python 3",
   "language": "python",
   "name": "python3"
  },
  "language_info": {
   "codemirror_mode": {
    "name": "ipython",
    "version": 3
   },
   "file_extension": ".py",
   "mimetype": "text/x-python",
   "name": "python",
   "nbconvert_exporter": "python",
   "pygments_lexer": "ipython3",
   "version": "3.8.5"
  }
 },
 "nbformat": 4,
 "nbformat_minor": 4
}
