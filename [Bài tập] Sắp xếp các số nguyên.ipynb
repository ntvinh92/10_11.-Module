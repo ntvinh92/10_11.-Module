{
 "cells": [
  {
   "cell_type": "code",
   "execution_count": null,
   "metadata": {},
   "outputs": [],
   "source": [
    "a = int(input('Nhap so nguyen thu 1: '))\n",
    "b = int(input('Nhap so nguyen thu 2: '))\n",
    "c = int(input('Nhap so nguyen thu 3: '))\n",
    "\n",
    "t1 = min(a,b,c)\n",
    "t3 = max(a,b,c)\n",
    "t2 = (a + b + c) - t1 - t3\n",
    "print(f'Thu tu 3 so nguyen: {t1}, {t2}, {t3}')"
   ]
  }
 ],
 "metadata": {
  "kernelspec": {
   "display_name": "Python 3",
   "language": "python",
   "name": "python3"
  },
  "language_info": {
   "codemirror_mode": {
    "name": "ipython",
    "version": 3
   },
   "file_extension": ".py",
   "mimetype": "text/x-python",
   "name": "python",
   "nbconvert_exporter": "python",
   "pygments_lexer": "ipython3",
   "version": "3.8.5"
  }
 },
 "nbformat": 4,
 "nbformat_minor": 4
}
